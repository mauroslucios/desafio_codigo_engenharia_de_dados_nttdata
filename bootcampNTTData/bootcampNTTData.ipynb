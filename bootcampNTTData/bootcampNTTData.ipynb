{
 "cells": [
  {
   "cell_type": "markdown",
   "id": "444ea22b-a387-40d7-b6ad-62da1557549c",
   "metadata": {},
   "source": [
    "# BootCamp NTTData"
   ]
  },
  {
   "cell_type": "code",
   "execution_count": 1,
   "id": "759b903f-ee62-4c83-827c-685324747416",
   "metadata": {},
   "outputs": [],
   "source": [
    "import requests\n",
    "import time\n",
    "import os\n",
    "import pandas as pd"
   ]
  },
  {
   "cell_type": "code",
   "execution_count": 2,
   "id": "e8b1edcf-dbdd-4757-98b2-5f3c031d1faa",
   "metadata": {},
   "outputs": [],
   "source": [
    "# Salvando em uma variável a url base da API de Star Wars\n",
    "base_url = \"https://swapi.dev/api/\""
   ]
  },
  {
   "cell_type": "code",
   "execution_count": 20,
   "id": "929cfae6-79f6-4c5f-ad64-a03ce6a6e351",
   "metadata": {},
   "outputs": [],
   "source": [
    "# Endpoint ou rota para obter informações sobre filmes\n",
    "films_endpoint = \"films/\""
   ]
  },
  {
   "cell_type": "code",
   "execution_count": 21,
   "id": "7736090e-317d-4e94-8a6a-050ff3200019",
   "metadata": {},
   "outputs": [],
   "source": [
    "# Fazendo a requisição GET\n",
    "response = requests.get(base_url + films_endpoint)"
   ]
  },
  {
   "cell_type": "code",
   "execution_count": 19,
   "id": "a4b135cc-8228-47de-8259-5e69ca121b63",
   "metadata": {},
   "outputs": [
    {
     "name": "stdout",
     "output_type": "stream",
     "text": [
      "Title: A New Hope\n",
      "Episode: 4\n",
      "Director: George Lucas\n",
      "Producer: Gary Kurtz, Rick McCallum\n",
      "Release Date: 1977-05-25\n",
      "________________________________________\n",
      "Title: The Empire Strikes Back\n",
      "Episode: 5\n",
      "Director: Irvin Kershner\n",
      "Producer: Gary Kurtz, Rick McCallum\n",
      "Release Date: 1980-05-17\n",
      "________________________________________\n",
      "Title: Return of the Jedi\n",
      "Episode: 6\n",
      "Director: Richard Marquand\n",
      "Producer: Howard G. Kazanjian, George Lucas, Rick McCallum\n",
      "Release Date: 1983-05-25\n",
      "________________________________________\n",
      "Title: The Phantom Menace\n",
      "Episode: 1\n",
      "Director: George Lucas\n",
      "Producer: Rick McCallum\n",
      "Release Date: 1999-05-19\n",
      "________________________________________\n",
      "Title: Attack of the Clones\n",
      "Episode: 2\n",
      "Director: George Lucas\n",
      "Producer: Rick McCallum\n",
      "Release Date: 2002-05-16\n",
      "________________________________________\n",
      "Title: Revenge of the Sith\n",
      "Episode: 3\n",
      "Director: George Lucas\n",
      "Producer: Rick McCallum\n",
      "Release Date: 2005-05-19\n",
      "________________________________________\n"
     ]
    }
   ],
   "source": [
    "if response.status_code == 200:\n",
    "    data = response.json()\n",
    "    for film in data['results']:\n",
    "        print(f\"Title: {film['title']}\")\n",
    "        print(f\"Episode: {film['episode_id']}\")\n",
    "        print(f\"Director: {film['director']}\")\n",
    "        print(f\"Producer: {film['producer']}\")\n",
    "        print(f\"Release Date: {film['release_date']}\")\n",
    "        print(\"_\" * 40)\n",
    "else:\n",
    "    print(f\"Erro: {response.status_code}\")"
   ]
  },
  {
   "cell_type": "markdown",
   "id": "75fe6e1e-bc75-4a23-b333-edf72115f33e",
   "metadata": {},
   "source": [
    "## Explorando outros endpoints\n",
    "- Personagens: people/\n",
    "- Planetas: planets/\n",
    "- Espécies: species/\n",
    "- Naves Espaciais: starships/\n",
    "- Veículos: vehicles/"
   ]
  },
  {
   "cell_type": "code",
   "execution_count": 23,
   "id": "6680fc3f-d476-4fc7-aa44-1aaa221b97de",
   "metadata": {},
   "outputs": [],
   "source": [
    "# # Endpoint ou rota para obter informações sobre People\n",
    "people_endpoint = \"people/\""
   ]
  },
  {
   "cell_type": "code",
   "execution_count": 24,
   "id": "76df89b8-2cfc-461a-9ef6-b83024d96400",
   "metadata": {},
   "outputs": [],
   "source": [
    "# Fazendo a requisição GET\n",
    "response = requests.get(base_url + people_endpoint)"
   ]
  },
  {
   "cell_type": "code",
   "execution_count": 36,
   "id": "2b2b3cbf-1555-493f-8a09-3aab897a7a1e",
   "metadata": {},
   "outputs": [
    {
     "name": "stdout",
     "output_type": "stream",
     "text": [
      "Nome: Luke Skywalker\n",
      "Birth_year: 19BBY\n",
      "Eye_color: blue\n",
      "Gender: male\n",
      "Hair_color: blond\n",
      "Height: 172\n",
      "Mass: 77\n",
      "Skin_color: fair\n",
      "Homeworld: https://swapi.dev/api/planets/1/\n",
      "Films: ['https://swapi.dev/api/films/1/', 'https://swapi.dev/api/films/2/', 'https://swapi.dev/api/films/3/', 'https://swapi.dev/api/films/6/']\n",
      "Species: []\n",
      "Starships: ['https://swapi.dev/api/starships/12/', 'https://swapi.dev/api/starships/22/']\n",
      "Vehicles: ['https://swapi.dev/api/vehicles/14/', 'https://swapi.dev/api/vehicles/30/']\n",
      "Url: https://swapi.dev/api/people/1/\n",
      "Created: 2014-12-09T13:50:51.644000Z\n",
      "Edited: 2014-12-20T21:17:56.891000Z\n",
      "__________________________________________________________________________________________\n",
      "Nome: C-3PO\n",
      "Birth_year: 112BBY\n",
      "Eye_color: yellow\n",
      "Gender: n/a\n",
      "Hair_color: n/a\n",
      "Height: 167\n",
      "Mass: 75\n",
      "Skin_color: gold\n",
      "Homeworld: https://swapi.dev/api/planets/1/\n",
      "Films: ['https://swapi.dev/api/films/1/', 'https://swapi.dev/api/films/2/', 'https://swapi.dev/api/films/3/', 'https://swapi.dev/api/films/4/', 'https://swapi.dev/api/films/5/', 'https://swapi.dev/api/films/6/']\n",
      "Species: ['https://swapi.dev/api/species/2/']\n",
      "Starships: []\n",
      "Vehicles: []\n",
      "Url: https://swapi.dev/api/people/2/\n",
      "Created: 2014-12-10T15:10:51.357000Z\n",
      "Edited: 2014-12-20T21:17:50.309000Z\n",
      "__________________________________________________________________________________________\n",
      "Nome: R2-D2\n",
      "Birth_year: 33BBY\n",
      "Eye_color: red\n",
      "Gender: n/a\n",
      "Hair_color: n/a\n",
      "Height: 96\n",
      "Mass: 32\n",
      "Skin_color: white, blue\n",
      "Homeworld: https://swapi.dev/api/planets/8/\n",
      "Films: ['https://swapi.dev/api/films/1/', 'https://swapi.dev/api/films/2/', 'https://swapi.dev/api/films/3/', 'https://swapi.dev/api/films/4/', 'https://swapi.dev/api/films/5/', 'https://swapi.dev/api/films/6/']\n",
      "Species: ['https://swapi.dev/api/species/2/']\n",
      "Starships: []\n",
      "Vehicles: []\n",
      "Url: https://swapi.dev/api/people/3/\n",
      "Created: 2014-12-10T15:11:50.376000Z\n",
      "Edited: 2014-12-20T21:17:50.311000Z\n",
      "__________________________________________________________________________________________\n",
      "Nome: Darth Vader\n",
      "Birth_year: 41.9BBY\n",
      "Eye_color: yellow\n",
      "Gender: male\n",
      "Hair_color: none\n",
      "Height: 202\n",
      "Mass: 136\n",
      "Skin_color: white\n",
      "Homeworld: https://swapi.dev/api/planets/1/\n",
      "Films: ['https://swapi.dev/api/films/1/', 'https://swapi.dev/api/films/2/', 'https://swapi.dev/api/films/3/', 'https://swapi.dev/api/films/6/']\n",
      "Species: []\n",
      "Starships: ['https://swapi.dev/api/starships/13/']\n",
      "Vehicles: []\n",
      "Url: https://swapi.dev/api/people/4/\n",
      "Created: 2014-12-10T15:18:20.704000Z\n",
      "Edited: 2014-12-20T21:17:50.313000Z\n",
      "__________________________________________________________________________________________\n",
      "Nome: Leia Organa\n",
      "Birth_year: 19BBY\n",
      "Eye_color: brown\n",
      "Gender: female\n",
      "Hair_color: brown\n",
      "Height: 150\n",
      "Mass: 49\n",
      "Skin_color: light\n",
      "Homeworld: https://swapi.dev/api/planets/2/\n",
      "Films: ['https://swapi.dev/api/films/1/', 'https://swapi.dev/api/films/2/', 'https://swapi.dev/api/films/3/', 'https://swapi.dev/api/films/6/']\n",
      "Species: []\n",
      "Starships: []\n",
      "Vehicles: ['https://swapi.dev/api/vehicles/30/']\n",
      "Url: https://swapi.dev/api/people/5/\n",
      "Created: 2014-12-10T15:20:09.791000Z\n",
      "Edited: 2014-12-20T21:17:50.315000Z\n",
      "__________________________________________________________________________________________\n",
      "Nome: Owen Lars\n",
      "Birth_year: 52BBY\n",
      "Eye_color: blue\n",
      "Gender: male\n",
      "Hair_color: brown, grey\n",
      "Height: 178\n",
      "Mass: 120\n",
      "Skin_color: light\n",
      "Homeworld: https://swapi.dev/api/planets/1/\n",
      "Films: ['https://swapi.dev/api/films/1/', 'https://swapi.dev/api/films/5/', 'https://swapi.dev/api/films/6/']\n",
      "Species: []\n",
      "Starships: []\n",
      "Vehicles: []\n",
      "Url: https://swapi.dev/api/people/6/\n",
      "Created: 2014-12-10T15:52:14.024000Z\n",
      "Edited: 2014-12-20T21:17:50.317000Z\n",
      "__________________________________________________________________________________________\n",
      "Nome: Beru Whitesun lars\n",
      "Birth_year: 47BBY\n",
      "Eye_color: blue\n",
      "Gender: female\n",
      "Hair_color: brown\n",
      "Height: 165\n",
      "Mass: 75\n",
      "Skin_color: light\n",
      "Homeworld: https://swapi.dev/api/planets/1/\n",
      "Films: ['https://swapi.dev/api/films/1/', 'https://swapi.dev/api/films/5/', 'https://swapi.dev/api/films/6/']\n",
      "Species: []\n",
      "Starships: []\n",
      "Vehicles: []\n",
      "Url: https://swapi.dev/api/people/7/\n",
      "Created: 2014-12-10T15:53:41.121000Z\n",
      "Edited: 2014-12-20T21:17:50.319000Z\n",
      "__________________________________________________________________________________________\n",
      "Nome: R5-D4\n",
      "Birth_year: unknown\n",
      "Eye_color: red\n",
      "Gender: n/a\n",
      "Hair_color: n/a\n",
      "Height: 97\n",
      "Mass: 32\n",
      "Skin_color: white, red\n",
      "Homeworld: https://swapi.dev/api/planets/1/\n",
      "Films: ['https://swapi.dev/api/films/1/']\n",
      "Species: ['https://swapi.dev/api/species/2/']\n",
      "Starships: []\n",
      "Vehicles: []\n",
      "Url: https://swapi.dev/api/people/8/\n",
      "Created: 2014-12-10T15:57:50.959000Z\n",
      "Edited: 2014-12-20T21:17:50.321000Z\n",
      "__________________________________________________________________________________________\n",
      "Nome: Biggs Darklighter\n",
      "Birth_year: 24BBY\n",
      "Eye_color: brown\n",
      "Gender: male\n",
      "Hair_color: black\n",
      "Height: 183\n",
      "Mass: 84\n",
      "Skin_color: light\n",
      "Homeworld: https://swapi.dev/api/planets/1/\n",
      "Films: ['https://swapi.dev/api/films/1/']\n",
      "Species: []\n",
      "Starships: ['https://swapi.dev/api/starships/12/']\n",
      "Vehicles: []\n",
      "Url: https://swapi.dev/api/people/9/\n",
      "Created: 2014-12-10T15:59:50.509000Z\n",
      "Edited: 2014-12-20T21:17:50.323000Z\n",
      "__________________________________________________________________________________________\n",
      "Nome: Obi-Wan Kenobi\n",
      "Birth_year: 57BBY\n",
      "Eye_color: blue-gray\n",
      "Gender: male\n",
      "Hair_color: auburn, white\n",
      "Height: 182\n",
      "Mass: 77\n",
      "Skin_color: fair\n",
      "Homeworld: https://swapi.dev/api/planets/20/\n",
      "Films: ['https://swapi.dev/api/films/1/', 'https://swapi.dev/api/films/2/', 'https://swapi.dev/api/films/3/', 'https://swapi.dev/api/films/4/', 'https://swapi.dev/api/films/5/', 'https://swapi.dev/api/films/6/']\n",
      "Species: []\n",
      "Starships: ['https://swapi.dev/api/starships/48/', 'https://swapi.dev/api/starships/59/', 'https://swapi.dev/api/starships/64/', 'https://swapi.dev/api/starships/65/', 'https://swapi.dev/api/starships/74/']\n",
      "Vehicles: ['https://swapi.dev/api/vehicles/38/']\n",
      "Url: https://swapi.dev/api/people/10/\n",
      "Created: 2014-12-10T16:16:29.192000Z\n",
      "Edited: 2014-12-20T21:17:50.325000Z\n",
      "__________________________________________________________________________________________\n"
     ]
    }
   ],
   "source": [
    "if response.status_code == 200:\n",
    "    data = response.json()\n",
    "    for pessoas in data['results']:\n",
    "        print(f\"Nome: {pessoas['name']}\")\n",
    "        print(f\"Birth_year: {pessoas['birth_year']}\")\n",
    "        print(f\"Eye_color: {pessoas['eye_color']}\")\n",
    "        print(f\"Gender: {pessoas['gender']}\")\n",
    "        print(f\"Hair_color: {pessoas['hair_color']}\")\n",
    "        print(f\"Height: {pessoas['height']}\")\n",
    "        print(f\"Mass: {pessoas['mass']}\")\n",
    "        print(f\"Skin_color: {pessoas['skin_color']}\")\n",
    "        print(f\"Homeworld: {pessoas['homeworld']}\")\n",
    "        print(f\"Films: {pessoas['films']}\")\n",
    "        print(f\"Species: {pessoas['species']}\")\n",
    "        print(f\"Starships: {pessoas['starships']}\")\n",
    "        print(f\"Vehicles: {pessoas['vehicles']}\")\n",
    "        print(f\"Url: {pessoas['url']}\")\n",
    "        print(f\"Created: {pessoas['created']}\")\n",
    "        print(f\"Edited: {pessoas['edited']}\")\n",
    "        print(\"_\" * 90)\n",
    "        \n",
    "else:\n",
    "    print(f\"Erro: {response.status_code}\")\n"
   ]
  },
  {
   "cell_type": "code",
   "execution_count": 45,
   "id": "d55b84d3-2bfb-4115-93f0-984ca8934ab3",
   "metadata": {},
   "outputs": [],
   "source": [
    "# Endpoint para obter informações sobre personagens\n",
    "response = requests.get(base_url + people_endpoint)"
   ]
  },
  {
   "cell_type": "code",
   "execution_count": 48,
   "id": "1531a632-491e-4037-a20c-e3420e6a34c4",
   "metadata": {},
   "outputs": [],
   "source": [
    "if response.status_code == 200:\n",
    "    data = response.json()\n",
    "    # Criando uma lista de dicionários com as informações dos personagens\n",
    "    characters = []\n",
    "    for person in data['results']:\n",
    "        characters.append({'Name':person['name'],\n",
    "                           'Height': person['height'],\n",
    "                           'Mass': person['mass'],\n",
    "                           'Hair Color': person['hair_color'],\n",
    "                           'Skin Color': person['skin_color'],\n",
    "                           'Eye Color': person['eye_color'],\n",
    "                           'Birth Year': person['birth_year'],\n",
    "                           'Gender': person['gender']\n",
    "                          })\n",
    "        # Criando um DataFrame\n",
    "    df = pd.DataFrame(characters)\n",
    "else:\n",
    "    print(f\"Erro: {response.status_code}\")"
   ]
  },
  {
   "cell_type": "code",
   "execution_count": 49,
   "id": "99a92a84-be41-4c26-84a2-60aa3e564291",
   "metadata": {},
   "outputs": [
    {
     "data": {
      "text/html": [
       "<div>\n",
       "<style scoped>\n",
       "    .dataframe tbody tr th:only-of-type {\n",
       "        vertical-align: middle;\n",
       "    }\n",
       "\n",
       "    .dataframe tbody tr th {\n",
       "        vertical-align: top;\n",
       "    }\n",
       "\n",
       "    .dataframe thead th {\n",
       "        text-align: right;\n",
       "    }\n",
       "</style>\n",
       "<table border=\"1\" class=\"dataframe\">\n",
       "  <thead>\n",
       "    <tr style=\"text-align: right;\">\n",
       "      <th></th>\n",
       "      <th>Name</th>\n",
       "      <th>Height</th>\n",
       "      <th>Mass</th>\n",
       "      <th>Hair Color</th>\n",
       "      <th>Skin Color</th>\n",
       "      <th>Eye Color</th>\n",
       "      <th>Birth Year</th>\n",
       "      <th>Gender</th>\n",
       "    </tr>\n",
       "  </thead>\n",
       "  <tbody>\n",
       "    <tr>\n",
       "      <th>0</th>\n",
       "      <td>Luke Skywalker</td>\n",
       "      <td>172</td>\n",
       "      <td>77</td>\n",
       "      <td>blond</td>\n",
       "      <td>fair</td>\n",
       "      <td>blue</td>\n",
       "      <td>19BBY</td>\n",
       "      <td>male</td>\n",
       "    </tr>\n",
       "    <tr>\n",
       "      <th>1</th>\n",
       "      <td>C-3PO</td>\n",
       "      <td>167</td>\n",
       "      <td>75</td>\n",
       "      <td>n/a</td>\n",
       "      <td>gold</td>\n",
       "      <td>yellow</td>\n",
       "      <td>112BBY</td>\n",
       "      <td>n/a</td>\n",
       "    </tr>\n",
       "    <tr>\n",
       "      <th>2</th>\n",
       "      <td>R2-D2</td>\n",
       "      <td>96</td>\n",
       "      <td>32</td>\n",
       "      <td>n/a</td>\n",
       "      <td>white, blue</td>\n",
       "      <td>red</td>\n",
       "      <td>33BBY</td>\n",
       "      <td>n/a</td>\n",
       "    </tr>\n",
       "    <tr>\n",
       "      <th>3</th>\n",
       "      <td>Darth Vader</td>\n",
       "      <td>202</td>\n",
       "      <td>136</td>\n",
       "      <td>none</td>\n",
       "      <td>white</td>\n",
       "      <td>yellow</td>\n",
       "      <td>41.9BBY</td>\n",
       "      <td>male</td>\n",
       "    </tr>\n",
       "    <tr>\n",
       "      <th>4</th>\n",
       "      <td>Leia Organa</td>\n",
       "      <td>150</td>\n",
       "      <td>49</td>\n",
       "      <td>brown</td>\n",
       "      <td>light</td>\n",
       "      <td>brown</td>\n",
       "      <td>19BBY</td>\n",
       "      <td>female</td>\n",
       "    </tr>\n",
       "    <tr>\n",
       "      <th>5</th>\n",
       "      <td>Owen Lars</td>\n",
       "      <td>178</td>\n",
       "      <td>120</td>\n",
       "      <td>brown, grey</td>\n",
       "      <td>light</td>\n",
       "      <td>blue</td>\n",
       "      <td>52BBY</td>\n",
       "      <td>male</td>\n",
       "    </tr>\n",
       "    <tr>\n",
       "      <th>6</th>\n",
       "      <td>Beru Whitesun lars</td>\n",
       "      <td>165</td>\n",
       "      <td>75</td>\n",
       "      <td>brown</td>\n",
       "      <td>light</td>\n",
       "      <td>blue</td>\n",
       "      <td>47BBY</td>\n",
       "      <td>female</td>\n",
       "    </tr>\n",
       "    <tr>\n",
       "      <th>7</th>\n",
       "      <td>R5-D4</td>\n",
       "      <td>97</td>\n",
       "      <td>32</td>\n",
       "      <td>n/a</td>\n",
       "      <td>white, red</td>\n",
       "      <td>red</td>\n",
       "      <td>unknown</td>\n",
       "      <td>n/a</td>\n",
       "    </tr>\n",
       "    <tr>\n",
       "      <th>8</th>\n",
       "      <td>Biggs Darklighter</td>\n",
       "      <td>183</td>\n",
       "      <td>84</td>\n",
       "      <td>black</td>\n",
       "      <td>light</td>\n",
       "      <td>brown</td>\n",
       "      <td>24BBY</td>\n",
       "      <td>male</td>\n",
       "    </tr>\n",
       "    <tr>\n",
       "      <th>9</th>\n",
       "      <td>Obi-Wan Kenobi</td>\n",
       "      <td>182</td>\n",
       "      <td>77</td>\n",
       "      <td>auburn, white</td>\n",
       "      <td>fair</td>\n",
       "      <td>blue-gray</td>\n",
       "      <td>57BBY</td>\n",
       "      <td>male</td>\n",
       "    </tr>\n",
       "  </tbody>\n",
       "</table>\n",
       "</div>"
      ],
      "text/plain": [
       "                 Name Height Mass     Hair Color   Skin Color  Eye Color  \\\n",
       "0      Luke Skywalker    172   77          blond         fair       blue   \n",
       "1               C-3PO    167   75            n/a         gold     yellow   \n",
       "2               R2-D2     96   32            n/a  white, blue        red   \n",
       "3         Darth Vader    202  136           none        white     yellow   \n",
       "4         Leia Organa    150   49          brown        light      brown   \n",
       "5           Owen Lars    178  120    brown, grey        light       blue   \n",
       "6  Beru Whitesun lars    165   75          brown        light       blue   \n",
       "7               R5-D4     97   32            n/a   white, red        red   \n",
       "8   Biggs Darklighter    183   84          black        light      brown   \n",
       "9      Obi-Wan Kenobi    182   77  auburn, white         fair  blue-gray   \n",
       "\n",
       "  Birth Year  Gender  \n",
       "0      19BBY    male  \n",
       "1     112BBY     n/a  \n",
       "2      33BBY     n/a  \n",
       "3    41.9BBY    male  \n",
       "4      19BBY  female  \n",
       "5      52BBY    male  \n",
       "6      47BBY  female  \n",
       "7    unknown     n/a  \n",
       "8      24BBY    male  \n",
       "9      57BBY    male  "
      ]
     },
     "execution_count": 49,
     "metadata": {},
     "output_type": "execute_result"
    }
   ],
   "source": [
    "df"
   ]
  },
  {
   "cell_type": "markdown",
   "id": "22420724-8db7-412f-984e-6b1e5cf83878",
   "metadata": {},
   "source": [
    "# CRUD JSONPlaceholder"
   ]
  },
  {
   "cell_type": "markdown",
   "id": "666ee241-2d35-478c-ad31-98e380d56ae5",
   "metadata": {},
   "source": [
    "#### Criando um novo personagem"
   ]
  },
  {
   "cell_type": "code",
   "execution_count": 50,
   "id": "26429044-8f96-4221-98f3-06b100fc89dc",
   "metadata": {},
   "outputs": [],
   "source": [
    "# Dados para criar um novo personagem\n",
    "new_character = {\n",
    "    \"title\" : \"Luke Skywalker\",\n",
    "    \"body\": \"The son of Anakin Skywalker.\"\n",
    "}"
   ]
  },
  {
   "cell_type": "code",
   "execution_count": 52,
   "id": "2b0383e5-e376-4471-87ba-34c13c023230",
   "metadata": {},
   "outputs": [],
   "source": [
    "# Endpoint para criar um novo personagem\n",
    "response = requests.post('https://jsonplaceholder.typicode.com/posts', json = new_character)"
   ]
  },
  {
   "cell_type": "code",
   "execution_count": 53,
   "id": "03405aad-7a99-48a7-8ac5-e5f945522ce5",
   "metadata": {},
   "outputs": [
    {
     "name": "stdout",
     "output_type": "stream",
     "text": [
      "Personagem criado com sucesso: {'title': 'Luke Skywalker', 'body': 'The son of Anakin Skywalker.', 'id': 101}\n"
     ]
    }
   ],
   "source": [
    "if response.status_code == 201:\n",
    "    print(\"Personagem criado com sucesso:\", response.json())\n",
    "else:\n",
    "    print(f\"Erro: {response.status_code}\")"
   ]
  },
  {
   "cell_type": "markdown",
   "id": "791d3f04-1b0d-45e9-8ff9-570d45f2055f",
   "metadata": {},
   "source": [
    "#### Criando um novo filme"
   ]
  },
  {
   "cell_type": "code",
   "execution_count": 56,
   "id": "a0050f2e-512d-43e4-8e24-3763338e6f63",
   "metadata": {},
   "outputs": [],
   "source": [
    "# Dados para criar um novo file\n",
    "new_film = {\n",
    "    \"title\": \"A new hope\",\n",
    "    \"id\": 101 #ID fictício para simular um novo filme\n",
    "}"
   ]
  },
  {
   "cell_type": "code",
   "execution_count": 57,
   "id": "2828d918-1d1f-4a22-a9c1-45040bfb158e",
   "metadata": {},
   "outputs": [],
   "source": [
    "# Endpoint para criar um novo filme\n",
    "reponse = requests.post('https://jsonplaceholder.typicode.com/albums', json = new_film)"
   ]
  },
  {
   "cell_type": "code",
   "execution_count": 59,
   "id": "8f9a3d5f-be22-4ea5-8688-6c1af62d677b",
   "metadata": {},
   "outputs": [
    {
     "name": "stdout",
     "output_type": "stream",
     "text": [
      "Filme criado com sucesso: {'title': 'Luke Skywalker', 'body': 'The son of Anakin Skywalker.', 'id': 101}\n"
     ]
    }
   ],
   "source": [
    "if reponse.status_code == 201:\n",
    "    print(\"Filme criado com sucesso:\", response.json())\n",
    "else:\n",
    "    print(f\"Erro: {response.status_code}\")"
   ]
  },
  {
   "cell_type": "markdown",
   "id": "16743746-0e59-4cea-bf1d-49071f27b74c",
   "metadata": {},
   "source": [
    "#### Lendo dados da JSONPlaceholder"
   ]
  },
  {
   "cell_type": "code",
   "execution_count": 61,
   "id": "1ade8066-c451-479c-b6d3-4fa0661a26e0",
   "metadata": {},
   "outputs": [],
   "source": [
    "# Endpoint para recuperar personagns (simulado)\n",
    "response = requests.get('https://jsonplaceholder.typicode.com/posts')"
   ]
  },
  {
   "cell_type": "markdown",
   "id": "cf8e5420-2b2f-420d-8941-9498c3ec3248",
   "metadata": {},
   "source": [
    "#### Atualizando dados da JSONPlaceholder"
   ]
  },
  {
   "cell_type": "code",
   "execution_count": 68,
   "id": "3e701ad3-89f9-4dd8-97b9-9f9f79f3a96f",
   "metadata": {},
   "outputs": [],
   "source": [
    "character_id = 1 # ID fictício do personagem a ser atualizado\n",
    "update_character = {\n",
    "    \"title\":\"Darth Vader\",\n",
    "    \"body\":\"S Sith Lord, formely known as Anakin Skywalker.\"\n",
    "}"
   ]
  },
  {
   "cell_type": "code",
   "execution_count": 69,
   "id": "331822ea-ae1c-4730-9428-d159170f4108",
   "metadata": {},
   "outputs": [],
   "source": [
    "# Endpoint para atualizar um personagem\n",
    "response = requests.put(f'https://jsonplaceholder.typicode.com/posts/{character_id}', json=update_character)"
   ]
  },
  {
   "cell_type": "code",
   "execution_count": 70,
   "id": "20b41fec-ae82-40fb-82aa-2255118e84df",
   "metadata": {},
   "outputs": [
    {
     "name": "stdout",
     "output_type": "stream",
     "text": [
      "Personagem atualizado com sucesso: {'title': 'Darth Vader', 'body': 'S Sith Lord, formely known as Anakin Skywalker.', 'id': 1}\n"
     ]
    }
   ],
   "source": [
    "if response.status_code == 200:\n",
    "    print(\"Personagem atualizado com sucesso:\", response.json())\n",
    "else:\n",
    "    print(f'Erro: {response.status_code}')"
   ]
  },
  {
   "cell_type": "markdown",
   "id": "40f2d347-b8d5-48ea-9296-54e8ded0f202",
   "metadata": {},
   "source": [
    "#### Deletando dados da JSONPlaceholder"
   ]
  },
  {
   "cell_type": "code",
   "execution_count": 77,
   "id": "d7fbe714-1ea8-4b32-8417-3c44ee7bc760",
   "metadata": {},
   "outputs": [],
   "source": [
    "character_id = 1 # ID ficitício do personagem a ser deletado\n",
    "response = requests.delete(f'https://jsonplaceholder.typicode.com/posts/{character_id}')"
   ]
  },
  {
   "cell_type": "code",
   "execution_count": 78,
   "id": "3e07c6b6-3b58-4991-bde9-c83259426bec",
   "metadata": {},
   "outputs": [
    {
     "name": "stdout",
     "output_type": "stream",
     "text": [
      "Personagem deletado com sucesso: {}\n"
     ]
    }
   ],
   "source": [
    "if response.status_code == 200:\n",
    "    print(\"Personagem deletado com sucesso:\", response.json())\n",
    "else:\n",
    "    print(f'Erro: {response.status_code}')"
   ]
  },
  {
   "cell_type": "markdown",
   "id": "d8a5d493-2664-455b-8e8b-daba85e01a55",
   "metadata": {},
   "source": [
    "# CRUD\n",
    "- CREATE: POST para criar items\n",
    "- READ: GET para buscar items\n",
    "- UPDATE: PUT para atualizar items\n",
    "- DELETE: DELETE para deletar items"
   ]
  }
 ],
 "metadata": {
  "kernelspec": {
   "display_name": "Python 3 (ipykernel)",
   "language": "python",
   "name": "python3"
  },
  "language_info": {
   "codemirror_mode": {
    "name": "ipython",
    "version": 3
   },
   "file_extension": ".py",
   "mimetype": "text/x-python",
   "name": "python",
   "nbconvert_exporter": "python",
   "pygments_lexer": "ipython3",
   "version": "3.11.7"
  }
 },
 "nbformat": 4,
 "nbformat_minor": 5
}
